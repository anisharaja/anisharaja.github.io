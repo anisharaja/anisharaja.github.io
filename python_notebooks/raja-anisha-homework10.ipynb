{
 "cells": [
  {
   "cell_type": "markdown",
   "id": "eef9538b",
   "metadata": {},
   "source": [
    "# Homework 10\n",
    "This homework has code inspired by https://uiuc-ischool-dataviz.github.io/is445_oauoag_spring2023/nbv.html?notebook_name=%2Fis445_oauoag_spring2023%2Fweek13%2FinClass_week11.ipynb"
   ]
  },
  {
   "cell_type": "code",
   "execution_count": 1,
   "id": "f5a225f1",
   "metadata": {},
   "outputs": [],
   "source": [
    "import altair as alt"
   ]
  },
  {
   "cell_type": "markdown",
   "id": "5afb6a0f",
   "metadata": {},
   "source": [
    "## Visualization 1"
   ]
  },
  {
   "cell_type": "code",
   "execution_count": 2,
   "id": "0a3e3315",
   "metadata": {},
   "outputs": [],
   "source": [
    "viz1 = alt.Chart.from_dict({\n",
    "  \"title\": \"Relationship between High Temperature and Pressure in Bigfoot Cases\",\n",
    "  \"data\": {\"url\": \"https://raw.githubusercontent.com/UIUC-iSchool-DataViz/is445_bcubcg_fall2022/main/data/bfro_reports_fall2022.csv\"},\n",
    "  # Source: https://vega.github.io/vega-lite-v2/docs/zoom.html\n",
    "  \"selection\": {\n",
    "    \"grid\": {\n",
    "      \"type\": \"interval\", \"bind\": \"scales\"\n",
    "    }\n",
    "  },\n",
    "  \"mark\": \"point\",\n",
    "  \"width\": 800,\n",
    "  \"height\": 300,\n",
    "  \"encoding\": {\n",
    "    \"x\": {\"field\": \"temperature_high\", \"type\": \"quantitative\", \"title\": \"High Temperature\"},\n",
    "    \"y\": {\"field\": \"wind_bearing\", \"type\": \"quantitative\", \"title\": \"Pressure\"},\n",
    "    \"color\": {\"value\": \"purple\"},\n",
    "    # Source: https://vega.github.io/vega-lite/docs/tooltip.html\n",
    "    \"tooltip\": {\"field\": \"observed\", \"type\": \"nominal\"}\n",
    "  }\n",
    "})"
   ]
  },
  {
   "cell_type": "code",
   "execution_count": 3,
   "id": "3b94d515",
   "metadata": {},
   "outputs": [
    {
     "data": {
      "text/html": [
       "\n",
       "<div id=\"altair-viz-5e323a530e5148029fa210b99580456e\"></div>\n",
       "<script type=\"text/javascript\">\n",
       "  var VEGA_DEBUG = (typeof VEGA_DEBUG == \"undefined\") ? {} : VEGA_DEBUG;\n",
       "  (function(spec, embedOpt){\n",
       "    let outputDiv = document.currentScript.previousElementSibling;\n",
       "    if (outputDiv.id !== \"altair-viz-5e323a530e5148029fa210b99580456e\") {\n",
       "      outputDiv = document.getElementById(\"altair-viz-5e323a530e5148029fa210b99580456e\");\n",
       "    }\n",
       "    const paths = {\n",
       "      \"vega\": \"https://cdn.jsdelivr.net/npm//vega@5?noext\",\n",
       "      \"vega-lib\": \"https://cdn.jsdelivr.net/npm//vega-lib?noext\",\n",
       "      \"vega-lite\": \"https://cdn.jsdelivr.net/npm//vega-lite@4.17.0?noext\",\n",
       "      \"vega-embed\": \"https://cdn.jsdelivr.net/npm//vega-embed@6?noext\",\n",
       "    };\n",
       "\n",
       "    function maybeLoadScript(lib, version) {\n",
       "      var key = `${lib.replace(\"-\", \"\")}_version`;\n",
       "      return (VEGA_DEBUG[key] == version) ?\n",
       "        Promise.resolve(paths[lib]) :\n",
       "        new Promise(function(resolve, reject) {\n",
       "          var s = document.createElement('script');\n",
       "          document.getElementsByTagName(\"head\")[0].appendChild(s);\n",
       "          s.async = true;\n",
       "          s.onload = () => {\n",
       "            VEGA_DEBUG[key] = version;\n",
       "            return resolve(paths[lib]);\n",
       "          };\n",
       "          s.onerror = () => reject(`Error loading script: ${paths[lib]}`);\n",
       "          s.src = paths[lib];\n",
       "        });\n",
       "    }\n",
       "\n",
       "    function showError(err) {\n",
       "      outputDiv.innerHTML = `<div class=\"error\" style=\"color:red;\">${err}</div>`;\n",
       "      throw err;\n",
       "    }\n",
       "\n",
       "    function displayChart(vegaEmbed) {\n",
       "      vegaEmbed(outputDiv, spec, embedOpt)\n",
       "        .catch(err => showError(`Javascript Error: ${err.message}<br>This usually means there's a typo in your chart specification. See the javascript console for the full traceback.`));\n",
       "    }\n",
       "\n",
       "    if(typeof define === \"function\" && define.amd) {\n",
       "      requirejs.config({paths});\n",
       "      require([\"vega-embed\"], displayChart, err => showError(`Error loading script: ${err.message}`));\n",
       "    } else {\n",
       "      maybeLoadScript(\"vega\", \"5\")\n",
       "        .then(() => maybeLoadScript(\"vega-lite\", \"4.17.0\"))\n",
       "        .then(() => maybeLoadScript(\"vega-embed\", \"6\"))\n",
       "        .catch(showError)\n",
       "        .then(() => displayChart(vegaEmbed));\n",
       "    }\n",
       "  })({\"config\": {\"view\": {\"continuousWidth\": 400, \"continuousHeight\": 300}}, \"data\": {\"url\": \"https://raw.githubusercontent.com/UIUC-iSchool-DataViz/is445_bcubcg_fall2022/main/data/bfro_reports_fall2022.csv\"}, \"mark\": \"point\", \"encoding\": {\"color\": {\"value\": \"purple\"}, \"tooltip\": {\"field\": \"observed\", \"type\": \"nominal\"}, \"x\": {\"field\": \"temperature_high\", \"title\": \"High Temperature\", \"type\": \"quantitative\"}, \"y\": {\"field\": \"wind_bearing\", \"title\": \"Pressure\", \"type\": \"quantitative\"}}, \"height\": 300, \"selection\": {\"grid\": {\"type\": \"interval\", \"bind\": \"scales\"}}, \"title\": \"Relationship between High Temperature and Pressure in Bigfoot Cases\", \"width\": 800, \"$schema\": \"https://vega.github.io/schema/vega-lite/v4.17.0.json\"}, {\"mode\": \"vega-lite\"});\n",
       "</script>"
      ],
      "text/plain": [
       "alt.Chart(...)"
      ]
     },
     "execution_count": 3,
     "metadata": {},
     "output_type": "execute_result"
    }
   ],
   "source": [
    "viz1"
   ]
  },
  {
   "cell_type": "code",
   "execution_count": 4,
   "id": "006fecd9",
   "metadata": {},
   "outputs": [],
   "source": [
    "myJekyllDir = 'C:/anisha/UIUC/Academics/9 - Spring 2023/IS 445/anisharaja.github.io/assets/json/'"
   ]
  },
  {
   "cell_type": "code",
   "execution_count": 5,
   "id": "fb86b343",
   "metadata": {},
   "outputs": [],
   "source": [
    "viz1.properties(width='container').save(myJekyllDir+'viz1.json')"
   ]
  },
  {
   "cell_type": "markdown",
   "id": "1d3c2c83",
   "metadata": {},
   "source": [
    "## Visualizaton 2"
   ]
  },
  {
   "cell_type": "code",
   "execution_count": 6,
   "id": "c46964e0",
   "metadata": {
    "scrolled": true
   },
   "outputs": [
    {
     "data": {
      "text/html": [
       "\n",
       "<div id=\"altair-viz-d56b38a60e08421994cb0d2497986ebb\"></div>\n",
       "<script type=\"text/javascript\">\n",
       "  var VEGA_DEBUG = (typeof VEGA_DEBUG == \"undefined\") ? {} : VEGA_DEBUG;\n",
       "  (function(spec, embedOpt){\n",
       "    let outputDiv = document.currentScript.previousElementSibling;\n",
       "    if (outputDiv.id !== \"altair-viz-d56b38a60e08421994cb0d2497986ebb\") {\n",
       "      outputDiv = document.getElementById(\"altair-viz-d56b38a60e08421994cb0d2497986ebb\");\n",
       "    }\n",
       "    const paths = {\n",
       "      \"vega\": \"https://cdn.jsdelivr.net/npm//vega@5?noext\",\n",
       "      \"vega-lib\": \"https://cdn.jsdelivr.net/npm//vega-lib?noext\",\n",
       "      \"vega-lite\": \"https://cdn.jsdelivr.net/npm//vega-lite@4.17.0?noext\",\n",
       "      \"vega-embed\": \"https://cdn.jsdelivr.net/npm//vega-embed@6?noext\",\n",
       "    };\n",
       "\n",
       "    function maybeLoadScript(lib, version) {\n",
       "      var key = `${lib.replace(\"-\", \"\")}_version`;\n",
       "      return (VEGA_DEBUG[key] == version) ?\n",
       "        Promise.resolve(paths[lib]) :\n",
       "        new Promise(function(resolve, reject) {\n",
       "          var s = document.createElement('script');\n",
       "          document.getElementsByTagName(\"head\")[0].appendChild(s);\n",
       "          s.async = true;\n",
       "          s.onload = () => {\n",
       "            VEGA_DEBUG[key] = version;\n",
       "            return resolve(paths[lib]);\n",
       "          };\n",
       "          s.onerror = () => reject(`Error loading script: ${paths[lib]}`);\n",
       "          s.src = paths[lib];\n",
       "        });\n",
       "    }\n",
       "\n",
       "    function showError(err) {\n",
       "      outputDiv.innerHTML = `<div class=\"error\" style=\"color:red;\">${err}</div>`;\n",
       "      throw err;\n",
       "    }\n",
       "\n",
       "    function displayChart(vegaEmbed) {\n",
       "      vegaEmbed(outputDiv, spec, embedOpt)\n",
       "        .catch(err => showError(`Javascript Error: ${err.message}<br>This usually means there's a typo in your chart specification. See the javascript console for the full traceback.`));\n",
       "    }\n",
       "\n",
       "    if(typeof define === \"function\" && define.amd) {\n",
       "      requirejs.config({paths});\n",
       "      require([\"vega-embed\"], displayChart, err => showError(`Error loading script: ${err.message}`));\n",
       "    } else {\n",
       "      maybeLoadScript(\"vega\", \"5\")\n",
       "        .then(() => maybeLoadScript(\"vega-lite\", \"4.17.0\"))\n",
       "        .then(() => maybeLoadScript(\"vega-embed\", \"6\"))\n",
       "        .catch(showError)\n",
       "        .then(() => displayChart(vegaEmbed));\n",
       "    }\n",
       "  })({\"config\": {\"view\": {\"continuousWidth\": 400, \"continuousHeight\": 300}}, \"data\": {\"url\": \"https://raw.githubusercontent.com/UIUC-iSchool-DataViz/is445_bcubcg_fall2022/main/data/bfro_reports_fall2022.csv\"}, \"mark\": \"bar\", \"encoding\": {\"color\": {\"value\": \"green\"}, \"tooltip\": [{\"field\": \"date\", \"timeUnit\": \"year\", \"title\": \"Year\", \"type\": \"temporal\"}, {\"aggregate\": \"count\", \"title\": \"Case Count\", \"type\": \"quantitative\"}], \"x\": {\"field\": \"date\", \"title\": \"Year\", \"type\": \"temporal\"}, \"y\": {\"aggregate\": \"count\", \"title\": \"Case Count\", \"type\": \"quantitative\"}}, \"height\": 300, \"title\": \"Number of Bigfoot Cases per Year\", \"width\": 800, \"$schema\": \"https://vega.github.io/schema/vega-lite/v4.17.0.json\"}, {\"mode\": \"vega-lite\"});\n",
       "</script>"
      ],
      "text/plain": [
       "alt.Chart(...)"
      ]
     },
     "execution_count": 6,
     "metadata": {},
     "output_type": "execute_result"
    }
   ],
   "source": [
    "viz2 = alt.Chart.from_dict({\n",
    "  \"title\": \"Number of Bigfoot Cases per Year\",\n",
    "  \"data\": {\"url\": \"https://raw.githubusercontent.com/UIUC-iSchool-DataViz/is445_bcubcg_fall2022/main/data/bfro_reports_fall2022.csv\"},\n",
    "  \"mark\": \"bar\",\n",
    "  \"width\": 800,\n",
    "  \"height\": 300,\n",
    "  \"encoding\": {\n",
    "    \"x\": {\"field\": \"date\", \"type\": \"temporal\", \"title\": \"Year\"},\n",
    "    \"y\": {\"aggregate\": \"count\", \"type\": \"quantitative\", \"title\": \"Case Count\"},\n",
    "    \"color\": {\"value\": \"green\"},\n",
    "    # Source: https://vega.github.io/vega-lite/docs/tooltip.html\n",
    "    \"tooltip\": [\n",
    "        {\"field\": \"date\", \"timeUnit\": \"year\", \"type\": \"temporal\", \"title\": \"Year\"},\n",
    "        {\"aggregate\": \"count\", \"type\": \"quantitative\", \"title\": \"Case Count\"}\n",
    "    ]\n",
    "  }\n",
    "})\n",
    "viz2"
   ]
  },
  {
   "cell_type": "code",
   "execution_count": 7,
   "id": "72b3e02e",
   "metadata": {},
   "outputs": [],
   "source": [
    "viz2.properties(width='container').save(myJekyllDir+'viz2.json')"
   ]
  }
 ],
 "metadata": {
  "kernelspec": {
   "display_name": "Python 3 (ipykernel)",
   "language": "python",
   "name": "python3"
  },
  "language_info": {
   "codemirror_mode": {
    "name": "ipython",
    "version": 3
   },
   "file_extension": ".py",
   "mimetype": "text/x-python",
   "name": "python",
   "nbconvert_exporter": "python",
   "pygments_lexer": "ipython3",
   "version": "3.7.12"
  }
 },
 "nbformat": 4,
 "nbformat_minor": 5
}
