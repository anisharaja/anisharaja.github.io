{
 "cells": [
  {
   "cell_type": "markdown",
   "id": "eef9538b",
   "metadata": {},
   "source": [
    "# Homework 10"
   ]
  },
  {
   "cell_type": "code",
   "execution_count": 31,
   "id": "f5a225f1",
   "metadata": {},
   "outputs": [],
   "source": [
    "import altair as alt"
   ]
  },
  {
   "cell_type": "code",
   "execution_count": 32,
   "id": "591449a3",
   "metadata": {},
   "outputs": [],
   "source": [
    "viz1 = alt.Chart.from_dict({\n",
    "  \"title\": \"Pressure as a function of Temperature High\",\n",
    "  \"data\": {\"url\": \"https://raw.githubusercontent.com/UIUC-iSchool-DataViz/is445_bcubcg_fall2022/main/data/bfro_reports_fall2022.csv\"},\n",
    "  \"selection\": {\n",
    "    \"grid\": {\n",
    "      \"type\": \"interval\", \"bind\": \"scales\"\n",
    "    }\n",
    "  },\n",
    "  \"mark\": \"point\",\n",
    "  \"width\": 800,\n",
    "  \"height\": 300,\n",
    "  \"encoding\": {\n",
    "    \"x\": {\"field\": \"temperature_high\", \"type\": \"quantitative\", \"title\": \"Temperature-High\"},\n",
    "    \"y\": {\"field\": \"wind_bearing\", \"type\": \"quantitative\", \"title\": \"Pressure\"},\n",
    "    \"color\": {\"value\": \"purple\"},\n",
    "    \"tooltip\": {\"field\": \"observed\", \"type\": \"nominal\"}\n",
    "  }\n",
    "})"
   ]
  },
  {
   "cell_type": "code",
   "execution_count": 33,
   "id": "f2810599",
   "metadata": {},
   "outputs": [
    {
     "data": {
      "text/html": [
       "\n",
       "<div id=\"altair-viz-cfffc5e8d4f44bdea245e583bd6129fe\"></div>\n",
       "<script type=\"text/javascript\">\n",
       "  var VEGA_DEBUG = (typeof VEGA_DEBUG == \"undefined\") ? {} : VEGA_DEBUG;\n",
       "  (function(spec, embedOpt){\n",
       "    let outputDiv = document.currentScript.previousElementSibling;\n",
       "    if (outputDiv.id !== \"altair-viz-cfffc5e8d4f44bdea245e583bd6129fe\") {\n",
       "      outputDiv = document.getElementById(\"altair-viz-cfffc5e8d4f44bdea245e583bd6129fe\");\n",
       "    }\n",
       "    const paths = {\n",
       "      \"vega\": \"https://cdn.jsdelivr.net/npm//vega@5?noext\",\n",
       "      \"vega-lib\": \"https://cdn.jsdelivr.net/npm//vega-lib?noext\",\n",
       "      \"vega-lite\": \"https://cdn.jsdelivr.net/npm//vega-lite@4.17.0?noext\",\n",
       "      \"vega-embed\": \"https://cdn.jsdelivr.net/npm//vega-embed@6?noext\",\n",
       "    };\n",
       "\n",
       "    function maybeLoadScript(lib, version) {\n",
       "      var key = `${lib.replace(\"-\", \"\")}_version`;\n",
       "      return (VEGA_DEBUG[key] == version) ?\n",
       "        Promise.resolve(paths[lib]) :\n",
       "        new Promise(function(resolve, reject) {\n",
       "          var s = document.createElement('script');\n",
       "          document.getElementsByTagName(\"head\")[0].appendChild(s);\n",
       "          s.async = true;\n",
       "          s.onload = () => {\n",
       "            VEGA_DEBUG[key] = version;\n",
       "            return resolve(paths[lib]);\n",
       "          };\n",
       "          s.onerror = () => reject(`Error loading script: ${paths[lib]}`);\n",
       "          s.src = paths[lib];\n",
       "        });\n",
       "    }\n",
       "\n",
       "    function showError(err) {\n",
       "      outputDiv.innerHTML = `<div class=\"error\" style=\"color:red;\">${err}</div>`;\n",
       "      throw err;\n",
       "    }\n",
       "\n",
       "    function displayChart(vegaEmbed) {\n",
       "      vegaEmbed(outputDiv, spec, embedOpt)\n",
       "        .catch(err => showError(`Javascript Error: ${err.message}<br>This usually means there's a typo in your chart specification. See the javascript console for the full traceback.`));\n",
       "    }\n",
       "\n",
       "    if(typeof define === \"function\" && define.amd) {\n",
       "      requirejs.config({paths});\n",
       "      require([\"vega-embed\"], displayChart, err => showError(`Error loading script: ${err.message}`));\n",
       "    } else {\n",
       "      maybeLoadScript(\"vega\", \"5\")\n",
       "        .then(() => maybeLoadScript(\"vega-lite\", \"4.17.0\"))\n",
       "        .then(() => maybeLoadScript(\"vega-embed\", \"6\"))\n",
       "        .catch(showError)\n",
       "        .then(() => displayChart(vegaEmbed));\n",
       "    }\n",
       "  })({\"config\": {\"view\": {\"continuousWidth\": 400, \"continuousHeight\": 300}}, \"data\": {\"url\": \"https://raw.githubusercontent.com/UIUC-iSchool-DataViz/is445_bcubcg_fall2022/main/data/bfro_reports_fall2022.csv\"}, \"mark\": \"point\", \"encoding\": {\"color\": {\"value\": \"purple\"}, \"tooltip\": {\"field\": \"observed\", \"type\": \"nominal\"}, \"x\": {\"field\": \"temperature_high\", \"title\": \"Temperature-High\", \"type\": \"quantitative\"}, \"y\": {\"field\": \"wind_bearing\", \"title\": \"Pressure\", \"type\": \"quantitative\"}}, \"height\": 300, \"selection\": {\"grid\": {\"type\": \"interval\", \"bind\": \"scales\"}}, \"title\": \"Pressure as a function of Temperature High\", \"width\": 800, \"$schema\": \"https://vega.github.io/schema/vega-lite/v4.17.0.json\"}, {\"mode\": \"vega-lite\"});\n",
       "</script>"
      ],
      "text/plain": [
       "alt.Chart(...)"
      ]
     },
     "execution_count": 33,
     "metadata": {},
     "output_type": "execute_result"
    }
   ],
   "source": [
    "viz1"
   ]
  },
  {
   "cell_type": "code",
   "execution_count": 34,
   "id": "a743921e",
   "metadata": {},
   "outputs": [],
   "source": [
    "myJekyllDir = 'C:/anisha/UIUC/Academics/9 - Spring 2023/IS 445/anisharaja.github.io/assets/json/'"
   ]
  },
  {
   "cell_type": "code",
   "execution_count": 35,
   "id": "7376c030",
   "metadata": {},
   "outputs": [],
   "source": [
    "viz1.properties(width='container').save(myJekyllDir+'viz1.json')"
   ]
  }
 ],
 "metadata": {
  "kernelspec": {
   "display_name": "Python 3 (ipykernel)",
   "language": "python",
   "name": "python3"
  },
  "language_info": {
   "codemirror_mode": {
    "name": "ipython",
    "version": 3
   },
   "file_extension": ".py",
   "mimetype": "text/x-python",
   "name": "python",
   "nbconvert_exporter": "python",
   "pygments_lexer": "ipython3",
   "version": "3.7.12"
  }
 },
 "nbformat": 4,
 "nbformat_minor": 5
}
